{
 "cells": [
  {
   "cell_type": "markdown",
   "id": "cb53869f",
   "metadata": {},
   "source": [
    "# Automated Personality Classification"
   ]
  },
  {
   "cell_type": "markdown",
   "id": "6894e090",
   "metadata": {},
   "source": [
    "### Step 01: Installing Dependencies"
   ]
  },
  {
   "cell_type": "code",
   "execution_count": 40,
   "id": "d3a8e79b",
   "metadata": {},
   "outputs": [
    {
     "name": "stdout",
     "output_type": "stream",
     "text": [
      "Requirement already satisfied: tk in c:\\users\\theengineerguyy\\anaconda3\\lib\\site-packages (0.1.0)\n",
      "Note: you may need to restart the kernel to use updated packages.\n"
     ]
    }
   ],
   "source": [
    "pip install tk"
   ]
  },
  {
   "cell_type": "code",
   "execution_count": 2,
   "id": "4e258e7b",
   "metadata": {},
   "outputs": [
    {
     "name": "stdout",
     "output_type": "stream",
     "text": [
      "Requirement already satisfied: sklearn in c:\\users\\theengineerguyy\\anaconda3\\lib\\site-packages (0.0)Note: you may need to restart the kernel to use updated packages.\n",
      "\n",
      "Requirement already satisfied: scikit-learn in c:\\users\\theengineerguyy\\anaconda3\\lib\\site-packages (from sklearn) (0.24.1)\n",
      "Requirement already satisfied: numpy>=1.13.3 in c:\\users\\theengineerguyy\\anaconda3\\lib\\site-packages (from scikit-learn->sklearn) (1.20.1)\n",
      "Requirement already satisfied: scipy>=0.19.1 in c:\\users\\theengineerguyy\\anaconda3\\lib\\site-packages (from scikit-learn->sklearn) (1.6.2)\n",
      "Requirement already satisfied: threadpoolctl>=2.0.0 in c:\\users\\theengineerguyy\\anaconda3\\lib\\site-packages (from scikit-learn->sklearn) (2.1.0)\n",
      "Requirement already satisfied: joblib>=0.11 in c:\\users\\theengineerguyy\\anaconda3\\lib\\site-packages (from scikit-learn->sklearn) (1.0.1)\n"
     ]
    }
   ],
   "source": [
    "pip install sklearn"
   ]
  },
  {
   "cell_type": "markdown",
   "id": "e06799e5",
   "metadata": {},
   "source": [
    "### Step 02: Managing Imports"
   ]
  },
  {
   "cell_type": "code",
   "execution_count": 41,
   "id": "f730d168",
   "metadata": {},
   "outputs": [],
   "source": [
    "import pandas as pd\n",
    "from sklearn import linear_model\n",
    "from tkinter import *\n",
    "import matplotlib.pyplot as plt\n",
    "import seaborn as sns"
   ]
  },
  {
   "cell_type": "markdown",
   "id": "ec7bc088",
   "metadata": {},
   "source": [
    "### Step 03: Data Preprocessing"
   ]
  },
  {
   "cell_type": "code",
   "execution_count": 42,
   "id": "3579a5ad",
   "metadata": {},
   "outputs": [],
   "source": [
    "# storing training dataset in variable \"dataset\"\n",
    "data = pd.read_csv(\"training-dataset.csv\")\n",
    "\n",
    "# converted \"dateset\" into \"numpy array\"\n",
    "datasetValues = data.values\n",
    "\n",
    "# replacing \"Male\" with 0 and \"Female\" with 1\n",
    "for i in range(len(datasetValues)):\n",
    "    if datasetValues[i][0] == \"Male\":\n",
    "        datasetValues[i][0] = 0\n",
    "    else:\n",
    "        datasetValues[i][0] = 1\n",
    "\n",
    "# framing modified data into tableusing numpy's DataFrame\n",
    "df = pd.DataFrame(datasetValues)\n",
    "\n",
    "# removed \"personality\" column\n",
    "mainDF = df[[0,1,2,3,4,5,6]]\n",
    "\n",
    "# converted \"mainDF\" into \"numpy array\"\n",
    "mainDFValues = mainDF.values\n",
    "\n",
    "# containes only \"personality\" column\n",
    "personality = df[7]\n",
    "\n",
    "# converted \"personality\" into \"numpy array\"\n",
    "personalityValues = personality.values"
   ]
  },
  {
   "cell_type": "code",
   "execution_count": 43,
   "id": "02facc32",
   "metadata": {},
   "outputs": [
    {
     "name": "stdout",
     "output_type": "stream",
     "text": [
      "shape of dataframe is :  (709, 8)\n",
      "<class 'pandas.core.frame.DataFrame'>\n",
      "RangeIndex: 709 entries, 0 to 708\n",
      "Data columns (total 8 columns):\n",
      " #   Column             Non-Null Count  Dtype \n",
      "---  ------             --------------  ----- \n",
      " 0   gender             709 non-null    object\n",
      " 1   age                709 non-null    int64 \n",
      " 2   openness           709 non-null    int64 \n",
      " 3   neuroticism        709 non-null    int64 \n",
      " 4   conscientiousness  709 non-null    int64 \n",
      " 5   agreeableness      709 non-null    int64 \n",
      " 6   extraversion       709 non-null    int64 \n",
      " 7   personality        709 non-null    object\n",
      "dtypes: int64(6), object(2)\n",
      "memory usage: 44.4+ KB\n"
     ]
    },
    {
     "data": {
      "text/html": [
       "<div>\n",
       "<style scoped>\n",
       "    .dataframe tbody tr th:only-of-type {\n",
       "        vertical-align: middle;\n",
       "    }\n",
       "\n",
       "    .dataframe tbody tr th {\n",
       "        vertical-align: top;\n",
       "    }\n",
       "\n",
       "    .dataframe thead th {\n",
       "        text-align: right;\n",
       "    }\n",
       "</style>\n",
       "<table border=\"1\" class=\"dataframe\">\n",
       "  <thead>\n",
       "    <tr style=\"text-align: right;\">\n",
       "      <th></th>\n",
       "      <th>age</th>\n",
       "      <th>openness</th>\n",
       "      <th>neuroticism</th>\n",
       "      <th>conscientiousness</th>\n",
       "      <th>agreeableness</th>\n",
       "      <th>extraversion</th>\n",
       "    </tr>\n",
       "  </thead>\n",
       "  <tbody>\n",
       "    <tr>\n",
       "      <th>count</th>\n",
       "      <td>709.000000</td>\n",
       "      <td>709.000000</td>\n",
       "      <td>709.000000</td>\n",
       "      <td>709.000000</td>\n",
       "      <td>709.000000</td>\n",
       "      <td>709.000000</td>\n",
       "    </tr>\n",
       "    <tr>\n",
       "      <th>mean</th>\n",
       "      <td>19.685472</td>\n",
       "      <td>5.019746</td>\n",
       "      <td>4.647391</td>\n",
       "      <td>4.643159</td>\n",
       "      <td>4.827927</td>\n",
       "      <td>4.409027</td>\n",
       "    </tr>\n",
       "    <tr>\n",
       "      <th>std</th>\n",
       "      <td>2.510672</td>\n",
       "      <td>1.519052</td>\n",
       "      <td>1.658673</td>\n",
       "      <td>1.703569</td>\n",
       "      <td>1.632564</td>\n",
       "      <td>1.567404</td>\n",
       "    </tr>\n",
       "    <tr>\n",
       "      <th>min</th>\n",
       "      <td>5.000000</td>\n",
       "      <td>1.000000</td>\n",
       "      <td>1.000000</td>\n",
       "      <td>1.000000</td>\n",
       "      <td>1.000000</td>\n",
       "      <td>1.000000</td>\n",
       "    </tr>\n",
       "    <tr>\n",
       "      <th>25%</th>\n",
       "      <td>18.000000</td>\n",
       "      <td>4.000000</td>\n",
       "      <td>4.000000</td>\n",
       "      <td>3.000000</td>\n",
       "      <td>4.000000</td>\n",
       "      <td>3.000000</td>\n",
       "    </tr>\n",
       "    <tr>\n",
       "      <th>50%</th>\n",
       "      <td>19.000000</td>\n",
       "      <td>5.000000</td>\n",
       "      <td>5.000000</td>\n",
       "      <td>5.000000</td>\n",
       "      <td>5.000000</td>\n",
       "      <td>5.000000</td>\n",
       "    </tr>\n",
       "    <tr>\n",
       "      <th>75%</th>\n",
       "      <td>21.000000</td>\n",
       "      <td>6.000000</td>\n",
       "      <td>6.000000</td>\n",
       "      <td>6.000000</td>\n",
       "      <td>6.000000</td>\n",
       "      <td>6.000000</td>\n",
       "    </tr>\n",
       "    <tr>\n",
       "      <th>max</th>\n",
       "      <td>28.000000</td>\n",
       "      <td>8.000000</td>\n",
       "      <td>8.000000</td>\n",
       "      <td>8.000000</td>\n",
       "      <td>8.000000</td>\n",
       "      <td>7.000000</td>\n",
       "    </tr>\n",
       "  </tbody>\n",
       "</table>\n",
       "</div>"
      ],
      "text/plain": [
       "              age    openness  neuroticism  conscientiousness  agreeableness  \\\n",
       "count  709.000000  709.000000   709.000000         709.000000     709.000000   \n",
       "mean    19.685472    5.019746     4.647391           4.643159       4.827927   \n",
       "std      2.510672    1.519052     1.658673           1.703569       1.632564   \n",
       "min      5.000000    1.000000     1.000000           1.000000       1.000000   \n",
       "25%     18.000000    4.000000     4.000000           3.000000       4.000000   \n",
       "50%     19.000000    5.000000     5.000000           5.000000       5.000000   \n",
       "75%     21.000000    6.000000     6.000000           6.000000       6.000000   \n",
       "max     28.000000    8.000000     8.000000           8.000000       8.000000   \n",
       "\n",
       "       extraversion  \n",
       "count    709.000000  \n",
       "mean       4.409027  \n",
       "std        1.567404  \n",
       "min        1.000000  \n",
       "25%        3.000000  \n",
       "50%        5.000000  \n",
       "75%        6.000000  \n",
       "max        7.000000  "
      ]
     },
     "execution_count": 43,
     "metadata": {},
     "output_type": "execute_result"
    }
   ],
   "source": [
    "#shape of data\n",
    "print(\"shape of dataframe is : \", data.shape)\n",
    "#Let's look at first 5 rows of data\n",
    "data.head(5)\n",
    "# summary of data\n",
    "data.info()\n",
    "#Get Statistical details of data\n",
    "data.describe()"
   ]
  },
  {
   "cell_type": "code",
   "execution_count": 44,
   "id": "7d273b51",
   "metadata": {},
   "outputs": [
    {
     "name": "stdout",
     "output_type": "stream",
     "text": [
      "Columns having 1 unique value are : []\n"
     ]
    }
   ],
   "source": [
    "#Checking the unique value counts in columns\n",
    "featureValues={}\n",
    "for d in data.columns.tolist():\n",
    "    count=data[d].nunique()\n",
    "    if count==1:\n",
    "        featureValues[d]=count\n",
    "# List of columns having same 1 unique value        \n",
    "cols_to_drop= list(featureValues.keys())\n",
    "print(\"Columns having 1 unique value are :\",cols_to_drop)"
   ]
  },
  {
   "cell_type": "markdown",
   "id": "f3e0f95c",
   "metadata": {},
   "source": [
    "## Data Visualization"
   ]
  },
  {
   "cell_type": "code",
   "execution_count": 45,
   "id": "e9426c40",
   "metadata": {},
   "outputs": [
    {
     "data": {
      "image/png": "[encoded data removed]",
      "text/plain": [
       "<Figure size 432x288 with 2 Axes>"
      ]
     },
     "metadata": {
      "needs_background": "light"
     },
     "output_type": "display_data"
    }
   ],
   "source": [
    "corr_plot = sns.heatmap(dataset.corr(),annot = True,linewidths=3 )\n",
    "plt.title(\"Correlation Plot\")\n",
    "plt.show()"
   ]
  },
  {
   "cell_type": "code",
   "execution_count": 46,
   "id": "ae2a49f4",
   "metadata": {},
   "outputs": [
    {
     "data": {
      "image/png": "[encoded data removed]",
      "text/plain": [
       "<Figure size 720x216 with 2 Axes>"
      ]
     },
     "metadata": {
      "needs_background": "light"
     },
     "output_type": "display_data"
    }
   ],
   "source": [
    "# chart for distribution of target variable\n",
    "fig= plt.figure(figsize=(10,3) )\n",
    "fig.add_subplot(1,2,1)\n",
    "a= dataset[\"personality\"].value_counts(normalize=True).plot.pie()\n",
    "fig.add_subplot(1,2,2)\n",
    "churnchart=sns.countplot(x=dataset[\"personality\"])\n",
    "plt.tight_layout()\n",
    "plt.show()"
   ]
  },
  {
   "cell_type": "code",
   "execution_count": 48,
   "id": "7cf207c4",
   "metadata": {},
   "outputs": [
    {
     "data": {
      "image/png": "[encoded data removed]",
      "text/plain": [
       "<Figure size 720x360 with 1 Axes>"
      ]
     },
     "metadata": {
      "needs_background": "light"
     },
     "output_type": "display_data"
    }
   ],
   "source": [
    "# Visualize relationship between personality and other features\n",
    "fig= plt.figure(figsize=(10,5) )\n",
    "ar_6=sns.boxplot(x=data[\"personality\"],y=data[\"age\"])\n",
    "plt.title(\"Personality vs Age\")\n",
    "plt.tight_layout()\n",
    "plt.show()"
   ]
  },
  {
   "cell_type": "code",
   "execution_count": 49,
   "id": "c088e3b6",
   "metadata": {},
   "outputs": [
    {
     "data": {
      "image/png": "[encoded data removed]",
      "text/plain": [
       "<Figure size 432x288 with 1 Axes>"
      ]
     },
     "metadata": {
      "needs_background": "light"
     },
     "output_type": "display_data"
    }
   ],
   "source": [
    "ar_6=sns.boxplot(x=data[\"personality\"],y=data[\"agreeableness\"])\n",
    "plt.title(\"Personality vs Agreeableness\")\n",
    "plt.tight_layout()"
   ]
  },
  {
   "cell_type": "code",
   "execution_count": 50,
   "id": "4ae64837",
   "metadata": {},
   "outputs": [
    {
     "data": {
      "image/png": "[encoded data removed]",
      "text/plain": [
       "<Figure size 432x288 with 1 Axes>"
      ]
     },
     "metadata": {
      "needs_background": "light"
     },
     "output_type": "display_data"
    }
   ],
   "source": [
    "ar_6=sns.boxplot(x=data[\"personality\"],y=data[\"neuroticism\"])\n",
    "plt.title(\"Personality vs Neuroticism\")\n",
    "plt.tight_layout()"
   ]
  },
  {
   "cell_type": "code",
   "execution_count": 51,
   "id": "504cc8ea",
   "metadata": {},
   "outputs": [
    {
     "data": {
      "image/png": "[encoded data removed]",
      "text/plain": [
       "<Figure size 432x288 with 1 Axes>"
      ]
     },
     "metadata": {
      "needs_background": "light"
     },
     "output_type": "display_data"
    }
   ],
   "source": [
    "ar_6=sns.boxplot(x=data[\"personality\"],y=data[\"conscientiousness\"])\n",
    "plt.title(\"Personality vs Conscientiousness\")\n",
    "plt.tight_layout()"
   ]
  },
  {
   "cell_type": "code",
   "execution_count": 52,
   "id": "bb67aa67",
   "metadata": {},
   "outputs": [
    {
     "data": {
      "image/png": "[encoded data removed]",
      "text/plain": [
       "<Figure size 432x288 with 1 Axes>"
      ]
     },
     "metadata": {
      "needs_background": "light"
     },
     "output_type": "display_data"
    }
   ],
   "source": [
    "data[\"gender\"]=data[\"gender\"].apply(lambda x: 1 if x==\"m\" else 0)\n",
    "ar_6=sns.boxplot(x=data[\"personality\"],y=data[\"gender\"])\n",
    "plt.title(\"Personality vs Gender\")\n",
    "plt.tight_layout()"
   ]
  },
  {
   "cell_type": "code",
   "execution_count": 53,
   "id": "3b9b88a4",
   "metadata": {},
   "outputs": [
    {
     "data": {
      "image/png": "[encoded data removed]",
      "text/plain": [
       "<Figure size 432x288 with 1 Axes>"
      ]
     },
     "metadata": {
      "needs_background": "light"
     },
     "output_type": "display_data"
    }
   ],
   "source": [
    "ar_6=sns.boxplot(x=data[\"personality\"],y=data[\"extraversion\"])\n",
    "plt.title(\"Personality vs Extraversion\")\n",
    "plt.tight_layout()"
   ]
  },
  {
   "cell_type": "code",
   "execution_count": 54,
   "id": "791b8cf5",
   "metadata": {},
   "outputs": [
    {
     "data": {
      "image/png": "[encoded data removed]",
      "text/plain": [
       "<Figure size 432x288 with 1 Axes>"
      ]
     },
     "metadata": {
      "needs_background": "light"
     },
     "output_type": "display_data"
    }
   ],
   "source": [
    "ar_6=sns.boxplot(x=data[\"personality\"],y=data[\"openness\"])\n",
    "plt.title(\"Personality vs Openness\")\n",
    "plt.tight_layout()"
   ]
  },
  {
   "cell_type": "markdown",
   "id": "37f65902",
   "metadata": {},
   "source": [
    "### Step 04: Training Model"
   ]
  },
  {
   "cell_type": "code",
   "execution_count": 55,
   "id": "5b82ff42",
   "metadata": {},
   "outputs": [],
   "source": [
    "mul_lr = linear_model.LogisticRegression(multi_class = \"multinomial\", solver = \"newton-cg\", max_iter = 2000)\n",
    "mul_lr.fit(mainDFValues, personalityValues)\n",
    "\n",
    "# function to check personality -----------------\n",
    "\n",
    "def checkPersonality(event):\n",
    "    # getting data\n",
    "    cp_gender = gender.get()\n",
    "    cp_age = int(age.get())\n",
    "    cp_openness = int(openness.get())\n",
    "    cp_neuroticism = int(neuroticism.get())\n",
    "    cp_conscientiousness = int(conscientiousness.get())\n",
    "    cp_agreeableness = int(agreeableness.get())\n",
    "    cp_extraversion = int(extraversion.get())\n",
    "\n",
    "    # gender, age, openness, neuroticism, conscientiousness, agreeableness, extraversion\n",
    "    inputDataset = [[cp_gender, cp_age, cp_openness, cp_neuroticism, cp_conscientiousness, cp_agreeableness, cp_extraversion]]\n",
    "\n",
    "    # type: numpy array\n",
    "    predictedPersonality = mul_lr.predict(inputDataset)\n",
    "\n",
    "    # type: list\n",
    "    predictedPersonality = list(predictedPersonality)\n",
    "\n",
    "    # type: string\n",
    "    predictedPersonality = list(predictedPersonality)[0].capitalize()\n",
    "\n",
    "    # showing personality to user\n",
    "    personality_displayer.config(state = \"normal\")\n",
    "    personality_displayer.delete(\"1.0\", \"end\")\n",
    "    personality_displayer.insert(END, predictedPersonality)\n",
    "    personality_displayer.config(state = \"disabled\")\n",
    "\n",
    "# function to reset everything ------------------\n",
    "\n",
    "def reset(event):\n",
    "    # resetting gender\n",
    "    genderMale.select()\n",
    "    genderFemale.deselect()\n",
    "\n",
    "    # resetting datas\n",
    "    age.set(17)\n",
    "    openness.set(1)\n",
    "    neuroticism.set(1)\n",
    "    conscientiousness.set(1)\n",
    "    agreeableness.set(1)\n",
    "    extraversion.set(1)\n",
    "\n",
    "    # hiding personality from user\n",
    "    personality_displayer.config(state = \"normal\")\n",
    "    personality_displayer.delete(\"1.0\", \"end\")\n",
    "    personality_displayer.config(state = \"disabled\")\n",
    "\n",
    "# gui window ------------------------------------\n",
    "\n",
    "# creating main window\n",
    "w = Tk()\n",
    "\n",
    "# title of main window\n",
    "w.title(\"Automatic Personality Prediction System\")\n",
    "\n",
    "# size of main window\n",
    "w.geometry(\"830x700\")\n",
    "\n",
    "# background colour of main window\n",
    "w.configure(background = '#fff')\n",
    "# can = Canvas(w, bg = 'red', height=100000, width=200)\n",
    "# can.place( anchor=CENTER)\n",
    "\n",
    "# heading ---------------------------------------\n",
    "\n",
    "heading = Label(w, text = \"Automatic  Personality  Prediction  System\", bg = '#fff', font = ('algerian', 16))\n",
    "heading.config(pady = 35)\n",
    "heading.pack()\n",
    "\n",
    "# choose gender section\n",
    "\n",
    "label_chooseGender = Label(w, text = \"Choose gender:\", bg = '#fff', font = ('calibri', 14))\n",
    "label_chooseGender.pack()\n",
    "label_chooseGender.place(x = 50, y = 90)\n",
    "\n",
    "gender = IntVar()\n",
    "\n",
    "genderMale = Radiobutton(w, text = \"Male\", variable = gender, value = 0, bg = '#fff', font = ('calibri', 14))\n",
    "genderFemale = Radiobutton(w, text = \"Female\", variable = gender, value = 1, bg = '#fff', font = ('calibri', 14))\n",
    "\n",
    "genderMale.select()\n",
    "genderFemale.deselect()\n",
    "\n",
    "genderMale.pack()\n",
    "genderFemale.pack()\n",
    "\n",
    "genderMale.place(x = 50, y = 120)\n",
    "genderFemale.place(x = 130, y = 120)\n",
    "\n",
    "# code to set age -------------------------------\n",
    "\n",
    "label_age = Label(w, text = \"Age:\", bg = '#fff', font = ('calibri', 14))\n",
    "label_age.pack()\n",
    "label_age.place(x = 275, y = 90)\n",
    "\n",
    "age = Scale(w, from_ = 17, to = 28, tickinterval = 1, orient = HORIZONTAL, width = 10, length = 500, bg = '#fff', font = ('calibri', 14))\n",
    "age.set(17)\n",
    "age.place(x = 275, y = 120)\n",
    "\n",
    "# code to set openness --------------------------\n",
    "\n",
    "label_openness = Label(w, text = \"Openness:\", bg = '#fff', font = ('calibri', 14))\n",
    "label_openness.pack()\n",
    "label_openness.place(x = 50, y = 215)\n",
    "\n",
    "openness = Scale(w, from_ = 1, to = 8, tickinterval = 1, orient = HORIZONTAL, width = 10, length = 340, bg = '#fff', font = ('calibri', 14))\n",
    "openness.set(1)\n",
    "openness.place(x = 50, y = 245)\n",
    "\n",
    "# code to set neuroticism -----------------------\n",
    "\n",
    "label_neuroticism = Label(w, text = \"Neuroticism:\", bg = '#fff', font = ('calibri', 14))\n",
    "label_neuroticism.pack()\n",
    "label_neuroticism.place(x = 435, y = 215)\n",
    "\n",
    "neuroticism = Scale(w, from_ = 1, to = 8, tickinterval = 1, orient = HORIZONTAL, width = 10, length = 340, bg = '#fff', font = ('calibri', 14))\n",
    "neuroticism.set(1)\n",
    "neuroticism.place(x = 435, y = 245)\n",
    "\n",
    "# code to set conscientiousness -----------------\n",
    "\n",
    "label_conscientiousness = Label(w, text = \"Conscientiousness:\", bg = '#fff', font = ('calibri', 14))\n",
    "label_conscientiousness.pack()\n",
    "label_conscientiousness.place(x = 50, y = 340)\n",
    "\n",
    "conscientiousness = Scale(w, from_ = 1, to = 8, tickinterval = 1, orient = HORIZONTAL, width = 10, length = 340, bg = '#fff', font = ('calibri', 14))\n",
    "conscientiousness.set(1)\n",
    "conscientiousness.place(x = 50, y = 370)\n",
    "\n",
    "# code to set agreeableness ---------------------\n",
    "\n",
    "label_agreeableness = Label(w, text = \"Agreeableness:\", bg = '#fff', font = ('calibri', 14))\n",
    "label_agreeableness.pack()\n",
    "label_agreeableness.place(x = 435, y = 340)\n",
    "\n",
    "agreeableness = Scale(w, from_ = 1, to = 8, tickinterval = 1, orient = HORIZONTAL, width = 10, length = 340, bg = '#fff', font = ('calibri', 14))\n",
    "agreeableness.set(1)\n",
    "agreeableness.place(x = 435, y = 370)\n",
    "\n",
    "# code to set extraversion ----------------------\n",
    "\n",
    "label_extraversion = Label(w, text = \"Extraversion:\", bg = '#fff', font = ('calibri', 14))\n",
    "label_extraversion.pack()\n",
    "label_extraversion.place(x = 50, y = 465)\n",
    "\n",
    "extraversion = Scale(w, from_ = 1, to = 8, tickinterval = 1, orient = HORIZONTAL, width = 10, length = 340, bg = '#fff', font = ('calibri', 14))\n",
    "extraversion.set(1)\n",
    "extraversion.place(x = 50, y = 495)\n",
    "\n",
    "# code to display personality -------------------\n",
    "\n",
    "label_personality = Label(w, text = \"Personality:\", bg = '#fff', font = ('calibri', 14))\n",
    "label_personality.pack()\n",
    "label_personality.place(x = 435, y = 465)\n",
    "\n",
    "personality_displayer = Text(w, width = '34', height = '3', bg = '#f1f1f1', wrap = WORD, bd = '0', font = ('calibri', 16))\n",
    "personality_displayer.insert(END, \"\")\n",
    "personality_displayer.config(state = \"disabled\")\n",
    "personality_displayer.pack()\n",
    "personality_displayer.place(x = 435, y = 495)\n",
    "\n",
    "# buttons to perform operations -----------------\n",
    "\n",
    "button_check_personality = Button(w, text = \"Check Personality\", width = 16, height = 2, bg = '#077bff', fg = '#fff', activebackground = 'blue', activeforeground = '#fff', font = ('centurygothic', 14), bd = 0)\n",
    "button_reset = Button(w, text = \"Reset\", width = 16, height = 2, bg = 'red', fg = '#fff', activebackground = 'darkred', activeforeground = '#fff', font = ('centurygothic', 14), bd = 0)\n",
    "\n",
    "button_check_personality.pack()\n",
    "button_reset.pack()\n",
    "\n",
    "button_check_personality.bind('<Button-1>', checkPersonality)\n",
    "button_reset.bind('<Button-1>', reset)\n",
    "\n",
    "button_check_personality.place(x = 213, y = 605)\n",
    "button_reset.place(x = 436, y = 605)\n",
    "\n",
    "# to display GUI window -------------------------\n",
    "\n",
    "w.mainloop()"
   ]
  },
  {
   "cell_type": "markdown",
   "id": "831a9393",
   "metadata": {},
   "source": [
    "### Step 05: Calculating Model Score on Testing Dataset"
   ]
  },
  {
   "cell_type": "code",
   "execution_count": 56,
   "id": "891e3091",
   "metadata": {},
   "outputs": [
    {
     "data": {
      "text/plain": [
       "LogisticRegression(max_iter=2000, multi_class='multinomial', solver='newton-cg')"
      ]
     },
     "execution_count": 56,
     "metadata": {},
     "output_type": "execute_result"
    }
   ],
   "source": [
    "# storing testing dataset in variable \"dataset\"\n",
    "dataset = pd.read_csv(\"testing-dataset.csv\")\n",
    "\n",
    "# converted \"dateset\" into \"numpy array\"\n",
    "datasetValues = dataset.values\n",
    "\n",
    "# replacing \"Male\" with 0 and \"Female\" with 1\n",
    "for i in range(len(datasetValues)):\n",
    "    if datasetValues[i][0] == \"Male\":\n",
    "        datasetValues[i][0] = 1\n",
    "    else:\n",
    "        datasetValues[i][0] = 0\n",
    "\n",
    "# framing modified data into tableusing numpy's DataFrame\n",
    "df = pd.DataFrame(datasetValues)\n",
    "\n",
    "# removed \"personality\" column\n",
    "mainDF = df[[0,1,2,3,4,5,6]]\n",
    "\n",
    "# converted \"mainDF\" into \"numpy array\"\n",
    "mainDFValues = mainDF.values\n",
    "\n",
    "# containes only \"personality\" column\n",
    "personality = df[7]\n",
    "\n",
    "# converted \"personality\" into \"numpy array\"\n",
    "personalityValues = personality.values\n",
    "\n",
    "# training our model\n",
    "mul_lr = linear_model.LogisticRegression(multi_class = \"multinomial\", solver = \"newton-cg\", max_iter = 2000)\n",
    "mul_lr.fit(mainDFValues, personalityValues)"
   ]
  },
  {
   "cell_type": "code",
   "execution_count": 130,
   "id": "96536939",
   "metadata": {},
   "outputs": [
    {
     "name": "stdout",
     "output_type": "stream",
     "text": [
      "The score is found to be 0.7770700636942676\n"
     ]
    }
   ],
   "source": [
    "print(\"The score is found to be\", mul_lr.score(mainDFValues, personalityValues))"
   ]
  },
  {
   "cell_type": "markdown",
   "id": "73e86c65",
   "metadata": {},
   "source": [
    "## Alternate Approach"
   ]
  },
  {
   "cell_type": "code",
   "execution_count": 129,
   "id": "b36e7201",
   "metadata": {},
   "outputs": [
    {
     "name": "stdout",
     "output_type": "stream",
     "text": [
      "train size X :  (567, 6)\n",
      "train size y :  (567,)\n",
      "test size X :  (142, 6)\n",
      "test size y :  (142,)\n"
     ]
    }
   ],
   "source": [
    "# Reading Data\n",
    "data = pd.read_csv(\"training-dataset.csv\")\n",
    "\n",
    "#Converting Categorical columns into one hot encoding\n",
    "data[\"gender\"]=data[\"gender\"].apply(lambda x: 1 if x==\"m\" else 0)\n",
    "\n",
    "#list of columns\n",
    "cols = data.select_dtypes([\"object\"]).columns\n",
    "\n",
    "#Create dummy variables\n",
    "ds=pd.get_dummies(data[cols],drop_first=True)\n",
    "ds\n",
    "\n",
    "#concat newly created columns with original dataframe\n",
    "data=pd.concat([data,ds],axis=1)\n",
    "\n",
    "#Drop original columns\n",
    "data.drop(cols,axis=1,inplace=True)\n",
    "\n",
    "from sklearn.model_selection import train_test_split\n",
    "#split data into dependent variables(X) and independent variable(y) that we would predict\n",
    "data = pd.read_csv(\"training-dataset.csv\")\n",
    "data.pop(\"gender\")\n",
    "y = data.pop(\"personality\")\n",
    "X = data\n",
    "\n",
    "#Let’s split X and y using Train test split\n",
    "X_train,X_test,y_train,y_test = train_test_split(X,y,random_state=42,train_size=0.8)\n",
    "\n",
    "#get shape of train and test data\n",
    "print(\"train size X : \",X_train.shape)\n",
    "print(\"train size y : \",y_train.shape)\n",
    "print(\"test size X : \",X_test.shape)\n",
    "print(\"test size y : \",y_test.shape)\n",
    "\n",
    "#Feature scaling\n",
    "from sklearn.preprocessing import StandardScaler\n",
    "scale=StandardScaler()\n",
    "X_train = scale.fit_transform(X_train)\n",
    "X_test = scale.transform(X_test)\n",
    "\n",
    "#check for distribution of labels\n",
    "y_train.value_counts(normalize=True)\n",
    "\n",
    "#import library\n",
    "\n",
    "from sklearn.linear_model import LogisticRegression\n",
    "#make instance of model with default parameters except class weight\n",
    "#as we will add class weights due to class imbalance problem\n",
    "lr_basemodel = LogisticRegression(class_weight=\"balanced\")\n",
    "\n",
    "# train model to learn relationships between input and output variables\n",
    "lr_basemodel.fit(X_train,y_train)\n",
    "\n",
    "\n",
    "y_pred_basemodel = lr_basemodel.predict(X_test)\n",
    "# print(y_pred_basemodel)"
   ]
  },
  {
   "cell_type": "markdown",
   "id": "06daf8f6",
   "metadata": {},
   "source": [
    "### Evaluation"
   ]
  },
  {
   "cell_type": "code",
   "execution_count": 121,
   "id": "19da0c0d",
   "metadata": {},
   "outputs": [],
   "source": [
    "from sklearn.metrics import *"
   ]
  },
  {
   "cell_type": "markdown",
   "id": "722d03e9",
   "metadata": {},
   "source": [
    "### F1 Score"
   ]
  },
  {
   "cell_type": "code",
   "execution_count": 122,
   "id": "59e4de9f",
   "metadata": {},
   "outputs": [
    {
     "name": "stdout",
     "output_type": "stream",
     "text": [
      "f1 score for base model is :  0.18309859154929578\n"
     ]
    }
   ],
   "source": [
    "print(\"f1 score for base model is : \" , f1_score(y_test,y_pred_basemodel, average=\"micro\"))"
   ]
  },
  {
   "cell_type": "markdown",
   "id": "9220ebc4",
   "metadata": {},
   "source": [
    "### Recall"
   ]
  },
  {
   "cell_type": "code",
   "execution_count": 135,
   "id": "e2dea28f",
   "metadata": {},
   "outputs": [
    {
     "name": "stdout",
     "output_type": "stream",
     "text": [
      "Recall score  test dataset:   0.18309859154929578\n"
     ]
    }
   ],
   "source": [
    "lr2 = LogisticRegression(class_weight=\"balanced\", C=20, penalty=\"l2\")\n",
    "lr2.fit(X_train,y_train)\n",
    "\n",
    "y_pred_test = lr2.predict(X_test)\n",
    "#Recall Score\n",
    "print(\"Recall score  test dataset:  \", recall_score(y_test,y_pred_test, average=\"micro\"))"
   ]
  },
  {
   "cell_type": "markdown",
   "id": "e4fa8f41",
   "metadata": {},
   "source": [
    "### Precision"
   ]
  },
  {
   "cell_type": "code",
   "execution_count": 134,
   "id": "19d8ddfe",
   "metadata": {},
   "outputs": [
    {
     "name": "stdout",
     "output_type": "stream",
     "text": [
      "Precision Score  test dataset:   0.18309859154929578\n"
     ]
    }
   ],
   "source": [
    "#Precision score\n",
    "y_pred_test = lr_basemodel.predict(X_test)\n",
    "print(\"Precision Score  test dataset:  \", precision_score(y_test,y_pred_test, average=\"micro\"))"
   ]
  },
  {
   "cell_type": "markdown",
   "id": "91a5bbd3",
   "metadata": {},
   "source": [
    "### Confusion Matrix"
   ]
  },
  {
   "cell_type": "code",
   "execution_count": 136,
   "id": "353cde9b",
   "metadata": {},
   "outputs": [
    {
     "name": "stdout",
     "output_type": "stream",
     "text": [
      "Confusion Matrix: \n",
      "\n",
      " [[ 7 10  3  7  4]\n",
      " [ 8  5  5  9  5]\n",
      " [ 5  6  3  8  0]\n",
      " [ 6  3  2  5  6]\n",
      " [10 14  3  2  6]]\n"
     ]
    }
   ],
   "source": [
    "# create confusion matrix\n",
    "cm = confusion_matrix(y_test, y_pred_test)\n",
    "print(\"Confusion Matrix: \\n\\n\",cm)\n"
   ]
  }
 ],
 "metadata": {
  "kernelspec": {
   "display_name": "Python 3",
   "language": "python",
   "name": "python3"
  },
  "language_info": {
   "codemirror_mode": {
    "name": "ipython",
    "version": 3
   },
   "file_extension": ".py",
   "mimetype": "text/x-python",
   "name": "python",
   "nbconvert_exporter": "python",
   "pygments_lexer": "ipython3",
   "version": "3.8.8"
  }
 },
 "nbformat": 4,
 "nbformat_minor": 5
}
